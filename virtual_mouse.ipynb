{
 "cells": [
  {
   "cell_type": "code",
   "execution_count": 1,
   "metadata": {},
   "outputs": [],
   "source": [
    "import cv2\n",
    "import sys\n",
    "import ctypes\n",
    "import subprocess\n",
    "import platform\n",
    "import mediapipe as mp\n",
    "import util"
   ]
  },
  {
   "cell_type": "code",
   "execution_count": 2,
   "metadata": {},
   "outputs": [
    {
     "name": "stderr",
     "output_type": "stream",
     "text": [
      "WARNING: All log messages before absl::InitializeLog() is called are written to STDERR\n",
      "I0000 00:00:1730911576.013661   12040 gl_context_egl.cc:85] Successfully initialized EGL. Major : 1 Minor: 5\n",
      "I0000 00:00:1730911576.018710   12252 gl_context.cc:357] GL version: 3.2 (OpenGL ES 3.2 Mesa 24.2.6-arch1.1), renderer: AMD Radeon Graphics (radeonsi, rembrandt, LLVM 18.1.8, DRM 3.54, 6.6.59-1-lts)\n"
     ]
    }
   ],
   "source": [
    "mpHands = mp.solutions.hands\n",
    "hands = mpHands.Hands(\n",
    "    static_image_mode=False,\n",
    "    model_complexity=1,\n",
    "    min_detection_confidence=0.7,\n",
    "    min_tracking_confidence=0.7,\n",
    "    max_num_hands=1\n",
    ")\n",
    "mpDraw = mp.solutions.drawing_utils "
   ]
  },
  {
   "cell_type": "code",
   "execution_count": 3,
   "metadata": {},
   "outputs": [
    {
     "name": "stderr",
     "output_type": "stream",
     "text": [
      "INFO: Created TensorFlow Lite XNNPACK delegate for CPU.\n"
     ]
    }
   ],
   "source": [
    "def get_screen_resolution():\n",
    "    \"\"\"Mendapatkan resolusi layar untuk Windows dan Linux\"\"\"\n",
    "    system = platform.system()\n",
    "    \n",
    "    try:\n",
    "        if system == \"Windows\":\n",
    "            # Untuk Windows menggunakan ctypes\n",
    "            user32 = ctypes.windll.user32\n",
    "            screen_width = user32.GetSystemMetrics(0)\n",
    "            screen_height = user32.GetSystemMetrics(1)\n",
    "            \n",
    "        elif system == \"Linux\":\n",
    "            # Untuk Linux menggunakan xrandr\n",
    "            cmd = ['xrandr']\n",
    "            cmd2 = ['grep', '*']\n",
    "            \n",
    "            p = subprocess.Popen(cmd, stdout=subprocess.PIPE)\n",
    "            p2 = subprocess.Popen(cmd2, stdin=p.stdout, stdout=subprocess.PIPE)\n",
    "            p.stdout.close()\n",
    "            \n",
    "            resolution_string = p2.communicate()[0].decode('utf-8').strip()\n",
    "            \n",
    "            # Parse resolusi dari output xrandr\n",
    "            resolution = resolution_string.split()[0]\n",
    "            width, height = resolution.split('x')\n",
    "            screen_width = int(width)\n",
    "            screen_height = int(height)\n",
    "            \n",
    "        else:\n",
    "            # Default resolution untuk sistem operasi lain\n",
    "            print(f\"Sistem operasi {system} tidak didukung, menggunakan resolusi default\")\n",
    "            screen_width = 1920\n",
    "            screen_height = 1080\n",
    "            \n",
    "    except Exception as e:\n",
    "        print(f\"Gagal mendapatkan resolusi layar: {str(e)}\")\n",
    "        print(\"Menggunakan resolusi default\")\n",
    "        screen_width = 1920\n",
    "        screen_height = 1080\n",
    "    \n",
    "    print(f\"Resolusi layar terdeteksi: {screen_width}x{screen_height}\")\n",
    "    \n",
    "    return screen_width, screen_height"
   ]
  },
  {
   "cell_type": "code",
   "execution_count": 4,
   "metadata": {},
   "outputs": [
    {
     "name": "stderr",
     "output_type": "stream",
     "text": [
      "W0000 00:00:1730911576.037019   12233 inference_feedback_manager.cc:114] Feedback manager requires a model with a single signature inference. Disabling support for feedback tensors.\n"
     ]
    }
   ],
   "source": [
    "\n",
    "def initialize_webcam(width=1280, height=720):\n",
    "    \"\"\"Inisialisasi webcam dengan resolusi tertentu\"\"\"\n",
    "    cap = cv2.VideoCapture(0)\n",
    "    if not cap.isOpened():\n",
    "        raise Exception(\"Tidak dapat mengakses webcam\")\n",
    "    \n",
    "    cap.set(cv2.CAP_PROP_FRAME_WIDTH, width)\n",
    "    cap.set(cv2.CAP_PROP_FRAME_HEIGHT, height)\n",
    "    \n",
    "    return cap"
   ]
  },
  {
   "cell_type": "code",
   "execution_count": 5,
   "metadata": {},
   "outputs": [],
   "source": [
    "def create_centered_window(window_name, width, height):\n",
    "    \"\"\"Membuat window di tengah layar\"\"\"\n",
    "    cv2.namedWindow(window_name, cv2.WINDOW_GUI_NORMAL | cv2.WINDOW_AUTOSIZE)\n",
    "    \n",
    "    # Dapatkan resolusi layar\n",
    "    screen_width, screen_height = get_screen_resolution()\n",
    "    \n",
    "    # Hitung posisi untuk window di tengah\n",
    "    x = (screen_width - width) // 2\n",
    "    y = (screen_height - height) // 2\n",
    "    \n",
    "    # Set posisi window\n",
    "    cv2.moveWindow(window_name, x, y)\n",
    "    \n",
    "    # Set ukuran window\n",
    "    cv2.resizeWindow(window_name, width, height)"
   ]
  },
  {
   "cell_type": "code",
   "execution_count": 6,
   "metadata": {},
   "outputs": [
    {
     "name": "stderr",
     "output_type": "stream",
     "text": [
      "W0000 00:00:1730911576.054194   12235 inference_feedback_manager.cc:114] Feedback manager requires a model with a single signature inference. Disabling support for feedback tensors.\n"
     ]
    }
   ],
   "source": [
    "def process_frame(frame, width, height):\n",
    "    \"\"\"Memproses frame dengan menambahkan overlay dan informasi\"\"\"\n",
    "    # Flip frame horizontal\n",
    "    frame = cv2.flip(frame, 1)\n",
    "    \n",
    "    # Resize frame ke ukuran tetap\n",
    "    frame = cv2.resize(frame, (width, height))\n",
    "    \n",
    "    # Buat overlay untuk informasi\n",
    "    overlay = frame.copy()\n",
    "    cv2.rectangle(overlay, (0, 0), (width, 60), (0, 0, 0), -1)\n",
    "    cv2.addWeighted(overlay, 0.3, frame, 0.7, 0, frame)\n",
    "    \n",
    "    # Tambahkan text judul\n",
    "    cv2.putText(frame, \"Virtual Mouse Control\", (10, 30),\n",
    "                cv2.FONT_HERSHEY_SIMPLEX, 1, (255, 255, 255), 2)\n",
    "    \n",
    "    # Tambahkan panduan kontrol\n",
    "    guide_text = \"Tekan 'q' untuk keluar\"\n",
    "    cv2.putText(frame, guide_text, (10, height-20),\n",
    "                cv2.FONT_HERSHEY_SIMPLEX, 0.7, (255, 255, 255), 2)\n",
    "    \n",
    "    return frame"
   ]
  },
  {
   "cell_type": "code",
   "execution_count": 7,
   "metadata": {},
   "outputs": [],
   "source": [
    "def detect_hand_landmarks(frame):\n",
    "    \"\"\"Mendeteksi hand landmarks dan menggambar di frame\"\"\"\n",
    "    frameRGB = cv2.cvtColor(frame, cv2.COLOR_BGR2RGB)\n",
    "    processed = hands.process(frameRGB)\n",
    "    \n",
    "    landmark_list = []\n",
    "    \n",
    "    if processed.multi_hand_landmarks:\n",
    "        hand_landmarks = processed.multi_hand_landmarks[0]\n",
    "        mpDraw.draw_landmarks(frame, hand_landmarks, mpHands.HAND_CONNECTIONS)\n",
    "        \n",
    "        for lm in hand_landmarks.landmark:\n",
    "            normalized_x = lm.x * frame.shape[1]\n",
    "            normalized_y = lm.y * frame.shape[0]\n",
    "            landmark_list.append((normalized_x, normalized_y))\n",
    "    \n",
    "    return frame, landmark_list"
   ]
  },
  {
   "cell_type": "code",
   "execution_count": 8,
   "metadata": {},
   "outputs": [
    {
     "name": "stderr",
     "output_type": "stream",
     "text": [
      "qt.qpa.plugin: Could not find the Qt platform plugin \"wayland\" in \"\"\n"
     ]
    },
    {
     "name": "stdout",
     "output_type": "stream",
     "text": [
      "Resolusi layar terdeteksi: 1920x1200\n"
     ]
    },
    {
     "name": "stderr",
     "output_type": "stream",
     "text": [
      "W0000 00:00:1730911584.759237   12231 landmark_projection_calculator.cc:186] Using NORM_RECT without IMAGE_DIMENSIONS is only supported for the square ROI. Provide IMAGE_DIMENSIONS or use PROJECTION_MATRIX.\n"
     ]
    },
    {
     "name": "stdout",
     "output_type": "stream",
     "text": [
      "Program dihentikan\n"
     ]
    }
   ],
   "source": [
    "def main():\n",
    "    \"\"\"Fungsi utama program\"\"\"\n",
    "    WINDOW_NAME = 'Virtual Mouse Control'\n",
    "    WIDTH = 1280\n",
    "    HEIGHT = 720\n",
    "    \n",
    "    try:\n",
    "        # Inisialisasi webcam\n",
    "        cap = initialize_webcam(WIDTH, HEIGHT)\n",
    "        \n",
    "        # Buat window di tengah\n",
    "        create_centered_window(WINDOW_NAME, WIDTH, HEIGHT)\n",
    "        \n",
    "        while True:\n",
    "            # Baca frame dari webcam\n",
    "            ret, frame = cap.read()\n",
    "            if not ret:\n",
    "                print(\"Gagal membaca frame dari webcam\")\n",
    "                break\n",
    "                \n",
    "            # Proses frame\n",
    "            processed_frame = process_frame(frame, WIDTH, HEIGHT)\n",
    "            \n",
    "            # Deteksi hand landmarks\n",
    "            processed_frame, landmarks = detect_hand_landmarks(processed_frame)\n",
    "\n",
    "            # Tampilkan frame\n",
    "            cv2.imshow(WINDOW_NAME, processed_frame)\n",
    "            \n",
    "            # Cek input keyboard dan status window\n",
    "            key = cv2.waitKey(1) & 0xFF\n",
    "            if key == ord('q') or cv2.getWindowProperty(WINDOW_NAME, cv2.WND_PROP_VISIBLE) < 1:\n",
    "                print(\"Program dihentikan\")\n",
    "                break\n",
    "                \n",
    "    except Exception as e:\n",
    "        print(f\"Terjadi error: {str(e)}\")\n",
    "        sys.exit(1)\n",
    "        \n",
    "    finally:\n",
    "        # Bersihkan resource\n",
    "        if 'cap' in locals():\n",
    "            cap.release()\n",
    "        cv2.destroyAllWindows()\n",
    "\n",
    "if __name__ == '__main__':\n",
    "    main()"
   ]
  },
  {
   "cell_type": "code",
   "execution_count": null,
   "metadata": {},
   "outputs": [],
   "source": []
  }
 ],
 "metadata": {
  "kernelspec": {
   "display_name": "virtual_mouse",
   "language": "python",
   "name": "python3"
  },
  "language_info": {
   "codemirror_mode": {
    "name": "ipython",
    "version": 3
   },
   "file_extension": ".py",
   "mimetype": "text/x-python",
   "name": "python",
   "nbconvert_exporter": "python",
   "pygments_lexer": "ipython3",
   "version": "3.10.13"
  }
 },
 "nbformat": 4,
 "nbformat_minor": 2
}
